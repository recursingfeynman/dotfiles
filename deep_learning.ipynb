{
  "nbformat": 4,
  "nbformat_minor": 0,
  "metadata": {
    "colab": {
      "name": "deep_learning.ipynb",
      "provenance": [],
      "collapsed_sections": [],
      "authorship_tag": "ABX9TyMgq16D18gQVbFAPlEnpyZn",
      "include_colab_link": true
    },
    "kernelspec": {
      "name": "python3",
      "display_name": "Python 3"
    },
    "language_info": {
      "name": "python"
    }
  },
  "cells": [
    {
      "cell_type": "markdown",
      "metadata": {
        "id": "view-in-github",
        "colab_type": "text"
      },
      "source": [
        "<a href=\"https://colab.research.google.com/github/recursingfeynman/dotfiles/blob/master/deep_learning.ipynb\" target=\"_parent\"><img src=\"https://colab.research.google.com/assets/colab-badge.svg\" alt=\"Open In Colab\"/></a>"
      ]
    },
    {
      "cell_type": "code",
      "execution_count": 91,
      "metadata": {
        "id": "4c7xxLCXR5iD"
      },
      "outputs": [],
      "source": [
        "import torch\n",
        "import numpy as np"
      ]
    },
    {
      "cell_type": "code",
      "source": [
        "x = torch.empty(2,3,2,2,)\n",
        "print(x)"
      ],
      "metadata": {
        "colab": {
          "base_uri": "https://localhost:8080/"
        },
        "id": "BZLWWy2WH_Gz",
        "outputId": "4570e8e5-4ca7-400d-f610-dd97fee458d6"
      },
      "execution_count": 12,
      "outputs": [
        {
          "output_type": "stream",
          "name": "stdout",
          "text": [
            "tensor([[[[8.4455e-36, 0.0000e+00],\n",
            "          [1.0930e-43, 0.0000e+00]],\n",
            "\n",
            "         [[0.0000e+00, 0.0000e+00],\n",
            "          [0.0000e+00, 0.0000e+00]],\n",
            "\n",
            "         [[0.0000e+00, 0.0000e+00],\n",
            "          [7.7052e+31, 1.9447e+31]]],\n",
            "\n",
            "\n",
            "        [[[2.1715e-18, 2.3081e-12],\n",
            "          [1.8590e+34, 7.7767e+31]],\n",
            "\n",
            "         [[1.7181e+19, 1.8990e+28],\n",
            "          [1.5766e-19, 1.4585e-19]],\n",
            "\n",
            "         [[7.1856e+22, 1.8609e+34],\n",
            "          [1.8179e+31, 1.8524e+28]]]])\n"
          ]
        }
      ]
    },
    {
      "cell_type": "code",
      "source": [
        "torch.rand(2,2)"
      ],
      "metadata": {
        "colab": {
          "base_uri": "https://localhost:8080/"
        },
        "id": "GP6O0LgnNj4m",
        "outputId": "1d7be7e2-61bd-460c-963f-fb8e1e0dc335"
      },
      "execution_count": 14,
      "outputs": [
        {
          "output_type": "execute_result",
          "data": {
            "text/plain": [
              "tensor([[0.8564, 0.8177],\n",
              "        [0.2588, 0.5611]])"
            ]
          },
          "metadata": {},
          "execution_count": 14
        }
      ]
    },
    {
      "cell_type": "code",
      "source": [
        "x = torch.rand(2,2, dtype = torch.float16)"
      ],
      "metadata": {
        "id": "4dOukrivNn97"
      },
      "execution_count": 28,
      "outputs": []
    },
    {
      "cell_type": "code",
      "source": [
        "x"
      ],
      "metadata": {
        "colab": {
          "base_uri": "https://localhost:8080/"
        },
        "id": "PZcFZbulNtil",
        "outputId": "a1fa534b-77e8-4d51-db99-37facc48e1cf"
      },
      "execution_count": 29,
      "outputs": [
        {
          "output_type": "execute_result",
          "data": {
            "text/plain": [
              "tensor([[0.6475, 0.0698],\n",
              "        [0.6724, 0.9907]], dtype=torch.float16)"
            ]
          },
          "metadata": {},
          "execution_count": 29
        }
      ]
    },
    {
      "cell_type": "code",
      "source": [
        "x = torch.rand(4,4)\n",
        "y = torch.tensor([3,2])\n",
        "\n",
        "print(x)\n",
        "print(y)\n",
        "\n",
        "# z = y @ x.T\n",
        "print(\"\\nResults:\")\n",
        "print(x.view(-1, 1))"
      ],
      "metadata": {
        "id": "jM-w44jiNuHo"
      },
      "execution_count": null,
      "outputs": []
    },
    {
      "cell_type": "code",
      "source": [
        "a = torch.ones(5)\n",
        "b = np.ones(5)"
      ],
      "metadata": {
        "id": "WzZy3hSOOA8Y"
      },
      "execution_count": 101,
      "outputs": []
    },
    {
      "cell_type": "code",
      "source": [
        "x = torch.randn(3, requires_grad=True)\n",
        "print(x)\n",
        "\n",
        "with torch.no_grad():\n",
        "  y = x + 2\n",
        "  print(y)"
      ],
      "metadata": {
        "colab": {
          "base_uri": "https://localhost:8080/"
        },
        "id": "qSZYuNuhSV70",
        "outputId": "2c49d205-5606-41df-c5f1-1f1794eb0117"
      },
      "execution_count": 146,
      "outputs": [
        {
          "output_type": "stream",
          "name": "stdout",
          "text": [
            "tensor([-0.8728, -0.5613, -0.4871], requires_grad=True)\n",
            "tensor([1.1272, 1.4387, 1.5129])\n"
          ]
        }
      ]
    },
    {
      "cell_type": "code",
      "source": [
        "weights = torch.ones(4, requires_grad=True)\n",
        "\n",
        "for epoch in range(5):\n",
        "  model_output = (weights * 3).sum()\n",
        "\n",
        "  model_output.backward()\n",
        "\n",
        "  print(weights.grad)\n",
        "\n",
        "  weights.grad.zero_()"
      ],
      "metadata": {
        "colab": {
          "base_uri": "https://localhost:8080/"
        },
        "id": "Y9OwV09lThpK",
        "outputId": "c78c068f-251a-48c5-d6b7-f134d966d9a4"
      },
      "execution_count": 152,
      "outputs": [
        {
          "output_type": "stream",
          "name": "stdout",
          "text": [
            "tensor([3., 3., 3., 3.])\n",
            "tensor([3., 3., 3., 3.])\n",
            "tensor([3., 3., 3., 3.])\n",
            "tensor([3., 3., 3., 3.])\n",
            "tensor([3., 3., 3., 3.])\n"
          ]
        }
      ]
    },
    {
      "cell_type": "code",
      "source": [
        "# Weights before next iteration -> add zero's\n",
        "optimizer = torch.optim.SGD(weights, lr = 0.01)\n",
        "optimizer.step()\n",
        "optimizer.zero_grad()"
      ],
      "metadata": {
        "id": "32ayuONsThsY"
      },
      "execution_count": null,
      "outputs": []
    },
    {
      "cell_type": "code",
      "source": [
        "### Backpropagation\n",
        "\n",
        "x = torch.tensor(1.0)\n",
        "y = torch.tensor(2.0)\n",
        "\n",
        "w = torch.tensor(1.0, requires_grad=True)\n",
        "\n",
        "# Forward pass and compute loss\n",
        "\n",
        "y_hat = w * x\n",
        "loss = (y_hat - y) ** 2\n",
        "\n",
        "print(loss)\n",
        "\n",
        "# Backward pass\n",
        "\n",
        "loss.backward()\n",
        "print(w.grad)\n",
        "\n",
        "# Update weights\n",
        "# Next forward and backwards ..."
      ],
      "metadata": {
        "colab": {
          "base_uri": "https://localhost:8080/"
        },
        "id": "Y3skPtmWThv5",
        "outputId": "8b7c6536-2080-4012-da45-fb0065774ab2"
      },
      "execution_count": 156,
      "outputs": [
        {
          "output_type": "stream",
          "name": "stdout",
          "text": [
            "tensor(1., grad_fn=<PowBackward0>)\n",
            "tensor(-2.)\n"
          ]
        }
      ]
    },
    {
      "cell_type": "code",
      "source": [
        ""
      ],
      "metadata": {
        "id": "4YMLJXC4Thx2"
      },
      "execution_count": null,
      "outputs": []
    },
    {
      "cell_type": "code",
      "source": [
        ""
      ],
      "metadata": {
        "id": "QzTeYJ8XTh1T"
      },
      "execution_count": null,
      "outputs": []
    }
  ]
}